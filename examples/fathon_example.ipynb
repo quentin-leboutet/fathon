{
 "cells": [
  {
   "cell_type": "code",
   "execution_count": null,
   "metadata": {},
   "outputs": [],
   "source": [
    "import numpy as np\n",
    "import matplotlib.pyplot as plt\n",
    "%matplotlib inline"
   ]
  },
  {
   "cell_type": "code",
   "execution_count": null,
   "metadata": {},
   "outputs": [],
   "source": [
    "import fathon\n",
    "from fathon import fathonUtils as fu"
   ]
  },
  {
   "cell_type": "code",
   "execution_count": null,
   "metadata": {},
   "outputs": [],
   "source": [
    "fathon.__version__"
   ]
  },
  {
   "cell_type": "code",
   "execution_count": null,
   "metadata": {},
   "outputs": [],
   "source": [
    "a = np.random.randn(10000)\n",
    "b = np.random.randn(10000)"
   ]
  },
  {
   "cell_type": "code",
   "execution_count": null,
   "metadata": {},
   "outputs": [],
   "source": [
    "a = fu.toAggregated(a)\n",
    "b = fu.toAggregated(b)"
   ]
  },
  {
   "cell_type": "markdown",
   "metadata": {},
   "source": [
    "# DFA"
   ]
  },
  {
   "cell_type": "code",
   "execution_count": null,
   "metadata": {},
   "outputs": [],
   "source": [
    "pydfa = fathon.DFA(a)"
   ]
  },
  {
   "cell_type": "code",
   "execution_count": null,
   "metadata": {},
   "outputs": [],
   "source": [
    "winSizes = fu.linRangeByStep(10, 2000)\n",
    "revSeg = True\n",
    "polOrd = 3"
   ]
  },
  {
   "cell_type": "code",
   "execution_count": null,
   "metadata": {},
   "outputs": [],
   "source": [
    "%%time\n",
    "n, F = pydfa.computeFlucVec(winSizes, revSeg=revSeg, polOrd=polOrd)"
   ]
  },
  {
   "cell_type": "code",
   "execution_count": null,
   "metadata": {},
   "outputs": [],
   "source": [
    "H, H_intercept = pydfa.fitFlucVec()"
   ]
  },
  {
   "cell_type": "code",
   "execution_count": null,
   "metadata": {},
   "outputs": [],
   "source": [
    "plt.plot(np.log(n), np.log(F), 'ro')\n",
    "plt.plot(np.log(n), H_intercept+H*np.log(n), 'k-', label='H = {:.2f}'.format(H))\n",
    "plt.xlabel('ln(n)', fontsize=14)\n",
    "plt.ylabel('ln(F(n))', fontsize=14)\n",
    "plt.title('DFA', fontsize=14)\n",
    "plt.legend(loc=0, fontsize=14)"
   ]
  },
  {
   "cell_type": "code",
   "execution_count": null,
   "metadata": {},
   "outputs": [],
   "source": [
    "limits_list = np.array([[15,2000], [200,1000]], dtype=int)\n",
    "list_H, list_H_intercept = pydfa.multiFitFlucVec(limits_list)"
   ]
  },
  {
   "cell_type": "code",
   "execution_count": null,
   "metadata": {},
   "outputs": [],
   "source": [
    "clrs = ['k', 'b', 'm', 'c', 'y']\n",
    "stls = ['-', '--', '.-']\n",
    "plt.plot(np.log(n), np.log(F), 'ro')\n",
    "for i in range(len(list_H)):\n",
    "    n_rng = np.arange(limits_list[i][0], limits_list[i][1]+1)\n",
    "    plt.plot(np.log(n_rng), list_H_intercept[i]+list_H[i]*np.log(n_rng),\n",
    "             clrs[i%len(clrs)]+stls[(i//len(clrs))%len(stls)], label='H = {:.2f}'.format(list_H[i]))\n",
    "plt.xlabel('ln(n)', fontsize=14)\n",
    "plt.ylabel('ln(F(n))', fontsize=14)\n",
    "plt.title('DFA', fontsize=14)\n",
    "plt.legend(loc=0, fontsize=14)"
   ]
  },
  {
   "cell_type": "markdown",
   "metadata": {},
   "source": [
    "# DMA"
   ]
  },
  {
   "cell_type": "code",
   "execution_count": null,
   "metadata": {},
   "outputs": [],
   "source": [
    "pydma = fathon.DMA(a)"
   ]
  },
  {
   "cell_type": "code",
   "execution_count": null,
   "metadata": {},
   "outputs": [],
   "source": [
    "winSizes = fu.linRangeByStep(10, 2000)\n",
    "revSeg = True\n",
    "polOrd = 3"
   ]
  },
  {
   "cell_type": "code",
   "execution_count": null,
   "metadata": {},
   "outputs": [],
   "source": [
    "%%time\n",
    "n, F = pydma.computeFlucVec(winSizes, revSeg=revSeg, polOrd=polOrd)"
   ]
  },
  {
   "cell_type": "code",
   "execution_count": null,
   "metadata": {},
   "outputs": [],
   "source": [
    "H, H_intercept = pydma.fitFlucVec()"
   ]
  },
  {
   "cell_type": "code",
   "execution_count": null,
   "metadata": {},
   "outputs": [],
   "source": [
    "plt.plot(np.log(n), np.log(F), 'ro')\n",
    "plt.plot(np.log(n), H_intercept+H*np.log(n), 'k-', label='H = {:.2f}'.format(H))\n",
    "plt.xlabel('ln(n)', fontsize=14)\n",
    "plt.ylabel('ln(F(n))', fontsize=14)\n",
    "plt.title('DMA', fontsize=14)\n",
    "plt.legend(loc=0, fontsize=14)"
   ]
  },
  {
   "cell_type": "code",
   "execution_count": null,
   "metadata": {},
   "outputs": [],
   "source": [
    "limits_list = np.array([[15,2000], [200,1000]], dtype=int)\n",
    "list_H, list_H_intercept = pydma.multiFitFlucVec(limits_list)"
   ]
  },
  {
   "cell_type": "code",
   "execution_count": null,
   "metadata": {},
   "outputs": [],
   "source": [
    "clrs = ['k', 'b', 'm', 'c', 'y']\n",
    "stls = ['-', '--', '.-']\n",
    "plt.plot(np.log(n), np.log(F), 'ro')\n",
    "for i in range(len(list_H)):\n",
    "    n_rng = np.arange(limits_list[i][0], limits_list[i][1]+1)\n",
    "    plt.plot(np.log(n_rng), list_H_intercept[i]+list_H[i]*np.log(n_rng),\n",
    "             clrs[i%len(clrs)]+stls[(i//len(clrs))%len(stls)], label='H = {:.2f}'.format(list_H[i]))\n",
    "plt.xlabel('ln(n)', fontsize=14)\n",
    "plt.ylabel('ln(F(n))', fontsize=14)\n",
    "plt.title('DMA', fontsize=14)\n",
    "plt.legend(loc=0, fontsize=14)"
   ]
  },
  {
   "cell_type": "markdown",
   "metadata": {},
   "source": [
    "# MFDFA\n"
   ]
  },
  {
   "cell_type": "code",
   "execution_count": null,
   "metadata": {},
   "outputs": [],
   "source": [
    "pymfdfa = fathon.MFDFA(a)"
   ]
  },
  {
   "cell_type": "code",
   "execution_count": null,
   "metadata": {},
   "outputs": [],
   "source": [
    "winSizes = fu.linRangeByStep(10, 2000)\n",
    "qs = np.arange(-3, 4, 0.1)\n",
    "revSeg = True\n",
    "polOrd = 1"
   ]
  },
  {
   "cell_type": "code",
   "execution_count": null,
   "metadata": {
    "scrolled": true
   },
   "outputs": [],
   "source": [
    "%%time\n",
    "n, F = pymfdfa.computeFlucVec(winSizes, qs, revSeg=revSeg, polOrd=polOrd)"
   ]
  },
  {
   "cell_type": "code",
   "execution_count": null,
   "metadata": {
    "scrolled": true
   },
   "outputs": [],
   "source": [
    "list_H, list_H_intercept = pymfdfa.fitFlucVec()"
   ]
  },
  {
   "cell_type": "code",
   "execution_count": null,
   "metadata": {},
   "outputs": [],
   "source": [
    "plt.plot(np.log(n), np.log(F[0, :]), 'ro')\n",
    "plt.plot(np.log(n), list_H_intercept[0]+list_H[0]*np.log(n), 'k-', label='h_{:.1f} = {:.2f}'.format(qs[0], list_H[0]))\n",
    "half_idx = int(len(qs)/2)\n",
    "plt.plot(np.log(n), np.log(F[half_idx, :]), 'co')\n",
    "plt.plot(np.log(n), list_H_intercept[half_idx]+list_H[half_idx]*np.log(n),\n",
    "         'k-', label='h_{:.1f} = {:.2f}'.format(qs[half_idx], list_H[half_idx]))\n",
    "plt.plot(np.log(n), np.log(F[-1, :]), 'yo')\n",
    "plt.plot(np.log(n), list_H_intercept[-1]+list_H[-1]*np.log(n), 'k-',\n",
    "         label='h_{:.1f} = {:.2f}'.format(qs[-1], list_H[-1]))\n",
    "plt.xlabel('ln(n)', fontsize=14)\n",
    "plt.ylabel('ln(F(n))', fontsize=14)\n",
    "plt.title('MFDFA', fontsize=14)\n",
    "plt.legend(loc=0, fontsize=14)"
   ]
  },
  {
   "cell_type": "code",
   "execution_count": null,
   "metadata": {},
   "outputs": [],
   "source": [
    "plt.plot(qs, list_H, 'ro-')\n",
    "plt.xlabel('q', fontsize=14)\n",
    "plt.ylabel('h(q)', fontsize=14)\n",
    "plt.title('h(q)', fontsize=14)"
   ]
  },
  {
   "cell_type": "code",
   "execution_count": null,
   "metadata": {},
   "outputs": [],
   "source": [
    "tau = pymfdfa.computeMassExponents()"
   ]
  },
  {
   "cell_type": "code",
   "execution_count": null,
   "metadata": {},
   "outputs": [],
   "source": [
    "plt.plot(qs, tau, 'ro-')\n",
    "plt.xlabel('q', fontsize=14)\n",
    "plt.ylabel('$\\\\tau$(q)', fontsize=14)\n",
    "plt.title('$\\\\tau$(q)', fontsize=14)"
   ]
  },
  {
   "cell_type": "code",
   "execution_count": null,
   "metadata": {},
   "outputs": [],
   "source": [
    "alpha, mfSpect = pymfdfa.computeMultifractalSpectrum()"
   ]
  },
  {
   "cell_type": "code",
   "execution_count": null,
   "metadata": {},
   "outputs": [],
   "source": [
    "plt.plot(alpha, mfSpect, 'ro-')\n",
    "plt.xlabel('$\\\\alpha$', fontsize=14)\n",
    "plt.ylabel('f($\\\\alpha$)', fontsize=14)\n",
    "plt.title('f($\\\\alpha$)', fontsize=14)"
   ]
  },
  {
   "cell_type": "markdown",
   "metadata": {},
   "source": [
    "# MFDMA"
   ]
  },
  {
   "cell_type": "code",
   "execution_count": null,
   "metadata": {},
   "outputs": [],
   "source": [
    "pymfdma = fathon.MFDMA(a)"
   ]
  },
  {
   "cell_type": "code",
   "execution_count": null,
   "metadata": {},
   "outputs": [],
   "source": [
    "winSizes = fu.linRangeByStep(10, 2000)\n",
    "qs = np.arange(-3, 4, 0.1)\n",
    "revSeg = True\n",
    "polOrd = 1"
   ]
  },
  {
   "cell_type": "code",
   "execution_count": null,
   "metadata": {},
   "outputs": [],
   "source": [
    "%%time\n",
    "n, F = pymfdma.computeFlucVec(winSizes, qs, revSeg=revSeg, polOrd=polOrd)"
   ]
  },
  {
   "cell_type": "code",
   "execution_count": null,
   "metadata": {},
   "outputs": [],
   "source": [
    "list_H, list_H_intercept = pymfdma.fitFlucVec()"
   ]
  },
  {
   "cell_type": "code",
   "execution_count": null,
   "metadata": {},
   "outputs": [],
   "source": [
    "plt.plot(np.log(n), np.log(F[0, :]), 'ro')\n",
    "plt.plot(np.log(n), list_H_intercept[0]+list_H[0]*np.log(n), 'k-', label='h_{:.1f} = {:.2f}'.format(qs[0], list_H[0]))\n",
    "half_idx = int(len(qs)/2)\n",
    "plt.plot(np.log(n), np.log(F[half_idx, :]), 'co')\n",
    "plt.plot(np.log(n), list_H_intercept[half_idx]+list_H[half_idx]*np.log(n),\n",
    "         'k-', label='h_{:.1f} = {:.2f}'.format(qs[half_idx], list_H[half_idx]))\n",
    "plt.plot(np.log(n), np.log(F[-1, :]), 'yo')\n",
    "plt.plot(np.log(n), list_H_intercept[-1]+list_H[-1]*np.log(n), 'k-',\n",
    "         label='h_{:.1f} = {:.2f}'.format(qs[-1], list_H[-1]))\n",
    "plt.xlabel('ln(n)', fontsize=14)\n",
    "plt.ylabel('ln(F(n))', fontsize=14)\n",
    "plt.title('MFDFA', fontsize=14)\n",
    "plt.legend(loc=0, fontsize=14)"
   ]
  },
  {
   "cell_type": "code",
   "execution_count": null,
   "metadata": {},
   "outputs": [],
   "source": [
    "plt.plot(qs, list_H, 'ro-')\n",
    "plt.xlabel('q', fontsize=14)\n",
    "plt.ylabel('h(q)', fontsize=14)\n",
    "plt.title('h(q)', fontsize=14)"
   ]
  },
  {
   "cell_type": "code",
   "execution_count": null,
   "metadata": {},
   "outputs": [],
   "source": [
    "tau = pymfdfa.computeMassExponents()"
   ]
  },
  {
   "cell_type": "code",
   "execution_count": null,
   "metadata": {},
   "outputs": [],
   "source": [
    "plt.plot(qs, tau, 'ro-')\n",
    "plt.xlabel('q', fontsize=14)\n",
    "plt.ylabel('$\\\\tau$(q)', fontsize=14)\n",
    "plt.title('$\\\\tau$(q)', fontsize=14)"
   ]
  },
  {
   "cell_type": "code",
   "execution_count": null,
   "metadata": {},
   "outputs": [],
   "source": [
    "alpha, mfSpect = pymfdma.computeMultifractalSpectrum()"
   ]
  },
  {
   "cell_type": "code",
   "execution_count": null,
   "metadata": {},
   "outputs": [],
   "source": [
    "plt.plot(alpha, mfSpect, 'ro-')\n",
    "plt.xlabel('$\\\\alpha$', fontsize=14)\n",
    "plt.ylabel('f($\\\\alpha$)', fontsize=14)\n",
    "plt.title('f($\\\\alpha$)', fontsize=14)"
   ]
  },
  {
   "cell_type": "markdown",
   "metadata": {},
   "source": [
    "# DCCA"
   ]
  },
  {
   "cell_type": "code",
   "execution_count": null,
   "metadata": {},
   "outputs": [],
   "source": [
    "pydcca = fathon.DCCA(a, b)"
   ]
  },
  {
   "cell_type": "code",
   "execution_count": null,
   "metadata": {},
   "outputs": [],
   "source": [
    "winSizes = fu.linRangeByStep(20, 1000, step=50)\n",
    "polOrd = 1"
   ]
  },
  {
   "cell_type": "code",
   "execution_count": null,
   "metadata": {},
   "outputs": [],
   "source": [
    "%%time\n",
    "n, F = pydcca.computeFlucVec(winSizes, polOrd=polOrd)"
   ]
  },
  {
   "cell_type": "code",
   "execution_count": null,
   "metadata": {},
   "outputs": [],
   "source": [
    "H, H_intercept = pydcca.fitFlucVec()"
   ]
  },
  {
   "cell_type": "code",
   "execution_count": null,
   "metadata": {},
   "outputs": [],
   "source": [
    "plt.plot(np.log(n), np.log(F), 'ro')\n",
    "plt.plot(np.log(n), H_intercept+H*np.log(n), 'k-', label='H = {:.2f}'.format(H))\n",
    "plt.xlabel('ln(n)', fontsize=14)\n",
    "plt.ylabel('ln(F(n))', fontsize=14)\n",
    "plt.title('DCCA', fontsize=14)\n",
    "plt.legend(loc=0, fontsize=14)"
   ]
  },
  {
   "cell_type": "code",
   "execution_count": null,
   "metadata": {},
   "outputs": [],
   "source": [
    "limits_list = np.array([[20,120], [220,870]], dtype=int)\n",
    "list_H, list_H_intercept = pydcca.multiFitFlucVec(limits_list)"
   ]
  },
  {
   "cell_type": "code",
   "execution_count": null,
   "metadata": {},
   "outputs": [],
   "source": [
    "clrs = ['k', 'b', 'm', 'c', 'y']\n",
    "stls = ['-', '--', '.-']\n",
    "plt.plot(np.log(n), np.log(F), 'ro')\n",
    "for i in range(len(list_H)):\n",
    "    n_rng = np.arange(limits_list[i][0], limits_list[i][1]+1, 50)\n",
    "    plt.plot(np.log(n_rng), list_H_intercept[i]+list_H[i]*np.log(n_rng),\n",
    "             clrs[i%len(clrs)]+stls[(i//len(clrs))%len(stls)], label='H = {:.2f}'.format(list_H[i]))\n",
    "plt.xlabel('ln(n)', fontsize=14)\n",
    "plt.ylabel('ln(F(n))', fontsize=14)\n",
    "plt.title('DCCA', fontsize=14)\n",
    "plt.legend(loc=0, fontsize=14)"
   ]
  },
  {
   "cell_type": "code",
   "execution_count": null,
   "metadata": {},
   "outputs": [],
   "source": [
    "winSizes = fu.linRangeByStep(20, 1000, step=50)\n",
    "polOrd = 1"
   ]
  },
  {
   "cell_type": "code",
   "execution_count": null,
   "metadata": {},
   "outputs": [],
   "source": [
    "%%time\n",
    "n, rho = pydcca.computeRho(winSizes, polOrd=polOrd)"
   ]
  },
  {
   "cell_type": "code",
   "execution_count": null,
   "metadata": {},
   "outputs": [],
   "source": [
    "plt.plot(n, rho, 'ro')\n",
    "plt.ylim(-1, 1)\n",
    "plt.xlabel('n', fontsize=14)\n",
    "plt.ylabel('$\\\\rho_{DCCA}$', fontsize=14)\n",
    "plt.title('rhoDCCA', fontsize=14)"
   ]
  },
  {
   "cell_type": "code",
   "execution_count": null,
   "metadata": {},
   "outputs": [],
   "source": [
    "pythresh = fathon.DCCA()"
   ]
  },
  {
   "cell_type": "code",
   "execution_count": null,
   "metadata": {},
   "outputs": [],
   "source": [
    "L = 300\n",
    "winSizes = fu.linRangeByStep(4, 100, step=1)\n",
    "nSim = 100\n",
    "confLvl = 0.95\n",
    "polOrd = 1"
   ]
  },
  {
   "cell_type": "code",
   "execution_count": null,
   "metadata": {
    "scrolled": true
   },
   "outputs": [],
   "source": [
    "%%time\n",
    "n, cInt1, cInt2 = pythresh.rhoThresholds(L, winSizes, nSim, confLvl, polOrd=polOrd, verbose=True)"
   ]
  },
  {
   "cell_type": "code",
   "execution_count": null,
   "metadata": {},
   "outputs": [],
   "source": [
    "plt.plot(n, cInt1, 'r-')\n",
    "plt.plot(n, cInt2, 'b-')\n",
    "plt.ylim(-1, 1)\n",
    "plt.xlabel('n', fontsize=14)"
   ]
  },
  {
   "cell_type": "markdown",
   "metadata": {},
   "source": [
    "# HT"
   ]
  },
  {
   "cell_type": "code",
   "execution_count": null,
   "metadata": {},
   "outputs": [],
   "source": [
    "pyht = fathon.HT(a)"
   ]
  },
  {
   "cell_type": "code",
   "execution_count": null,
   "metadata": {},
   "outputs": [],
   "source": [
    "scales = [100, 200, 1000]\n",
    "mfdfaPolOrd = 1\n",
    "polOrd = 1"
   ]
  },
  {
   "cell_type": "code",
   "execution_count": null,
   "metadata": {},
   "outputs": [],
   "source": [
    "%%time\n",
    "ht = pyht.computeHt(scales, mfdfaPolOrd=mfdfaPolOrd, polOrd=polOrd)"
   ]
  },
  {
   "cell_type": "code",
   "execution_count": null,
   "metadata": {},
   "outputs": [],
   "source": [
    "plt.rc('font', size=14)\n",
    "plt.figure(figsize=(10, 6))\n",
    "w = 3 if len(scales) >= 3 else len(scales)\n",
    "h = np.ceil(len(scales)/3)\n",
    "for i, scale in enumerate(scales):\n",
    "    plt.subplot(h, w, i+1)\n",
    "    plt.plot(np.arange(1, len(ht[i, 0:len(a)-scale+1])+1), ht[i, 0:len(a)-scale+1],\n",
    "             'r-', label='scale = {}'.format(scale))\n",
    "    plt.xlabel('window number', fontsize=14)\n",
    "    plt.ylabel('$h_t$', fontsize=14)\n",
    "    plt.legend(loc=0, fontsize=14)\n",
    "plt.subplots_adjust(hspace=0.6, wspace=0.3)"
   ]
  },
  {
   "cell_type": "markdown",
   "metadata": {},
   "source": [
    "# MFDCCA"
   ]
  },
  {
   "cell_type": "code",
   "execution_count": null,
   "metadata": {},
   "outputs": [],
   "source": [
    "pymfdcca = fathon.MFDCCA(a, b)"
   ]
  },
  {
   "cell_type": "code",
   "execution_count": null,
   "metadata": {},
   "outputs": [],
   "source": [
    "winSizes = fu.linRangeByStep(10, 2000)\n",
    "qs = np.arange(-3, 4, 0.1)\n",
    "revSeg = True\n",
    "polOrd = 1"
   ]
  },
  {
   "cell_type": "code",
   "execution_count": null,
   "metadata": {},
   "outputs": [],
   "source": [
    "n, F = pymfdcca.computeFlucVec(winSizes, qs, revSeg=revSeg, polOrd=polOrd)"
   ]
  },
  {
   "cell_type": "code",
   "execution_count": null,
   "metadata": {},
   "outputs": [],
   "source": [
    "list_H, list_H_intercept = pymfdcca.fitFlucVec()"
   ]
  },
  {
   "cell_type": "code",
   "execution_count": null,
   "metadata": {},
   "outputs": [],
   "source": [
    "plt.plot(np.log(n), np.log(F[0, :]), 'ro')\n",
    "plt.plot(np.log(n), list_H_intercept[0]+list_H[0]*np.log(n), 'k-', label='h_{:.1f} = {:.2f}'.format(qs[0], list_H[0]))\n",
    "half_idx = int(len(qs)/2)\n",
    "plt.plot(np.log(n), np.log(F[half_idx, :]), 'co')\n",
    "plt.plot(np.log(n), list_H_intercept[half_idx]+list_H[half_idx]*np.log(n),\n",
    "         'k-', label='h_{:.1f} = {:.2f}'.format(qs[half_idx], list_H[half_idx]))\n",
    "plt.plot(np.log(n), np.log(F[-1, :]), 'yo')\n",
    "plt.plot(np.log(n), list_H_intercept[-1]+list_H[-1]*np.log(n), 'k-',\n",
    "         label='h_{:.1f} = {:.2f}'.format(qs[-1], list_H[-1]))\n",
    "plt.xlabel('ln(n)', fontsize=14)\n",
    "plt.ylabel('ln(F(n))', fontsize=14)\n",
    "plt.title('MFDCCA', fontsize=14)\n",
    "plt.legend(loc=0, fontsize=14)\n",
    "plt.show()"
   ]
  },
  {
   "cell_type": "code",
   "execution_count": null,
   "metadata": {},
   "outputs": [],
   "source": [
    "plt.plot(qs, list_H, 'ro-')\n",
    "plt.xlabel('q', fontsize=14)\n",
    "plt.ylabel('h(q)', fontsize=14)\n",
    "plt.title('h(q)', fontsize=14)\n",
    "plt.show()"
   ]
  },
  {
   "cell_type": "code",
   "execution_count": null,
   "metadata": {},
   "outputs": [],
   "source": [
    "tau = pymfdcca.computeMassExponents()"
   ]
  },
  {
   "cell_type": "code",
   "execution_count": null,
   "metadata": {},
   "outputs": [],
   "source": [
    "plt.plot(qs, tau, 'ro-')\n",
    "plt.xlabel('q', fontsize=14)\n",
    "plt.ylabel('$\\\\tau$(q)', fontsize=14)\n",
    "plt.title('$\\\\tau$(q)', fontsize=14)\n",
    "plt.show()"
   ]
  },
  {
   "cell_type": "code",
   "execution_count": null,
   "metadata": {},
   "outputs": [],
   "source": [
    "alpha, mfSpect = pymfdcca.computeMultifractalSpectrum()"
   ]
  },
  {
   "cell_type": "code",
   "execution_count": null,
   "metadata": {},
   "outputs": [],
   "source": [
    "plt.plot(alpha, mfSpect, 'ro-')\n",
    "plt.xlabel('$\\\\alpha$', fontsize=14)\n",
    "plt.ylabel('f($\\\\alpha$)', fontsize=14)\n",
    "plt.title('f($\\\\alpha$)', fontsize=14)\n",
    "plt.show()"
   ]
  }
 ],
 "metadata": {
  "kernelspec": {
   "display_name": "Python 3",
   "language": "python",
   "name": "python3"
  },
  "language_info": {
   "codemirror_mode": {
    "name": "ipython",
    "version": 3
   },
   "file_extension": ".py",
   "mimetype": "text/x-python",
   "name": "python",
   "nbconvert_exporter": "python",
   "pygments_lexer": "ipython3",
   "version": "3.7.3"
  }
 },
 "nbformat": 4,
 "nbformat_minor": 2
}
